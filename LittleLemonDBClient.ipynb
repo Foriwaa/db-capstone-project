{
 "cells": [
  {
   "attachments": {},
   "cell_type": "markdown",
   "metadata": {},
   "source": [
    "# Little Lemon Databas Client Project\n",
    "\n",
    "### Task One\n",
    " In the first task of this exercise, you are tasked with extending the environment to connect with your database and interact with the data it holds. "
   ]
  },
  {
   "cell_type": "code",
   "execution_count": 34,
   "metadata": {},
   "outputs": [
    {
     "name": "stdout",
     "output_type": "stream",
     "text": [
      "Connection between MySQL and Python is established.\n",
      "\n"
     ]
    }
   ],
   "source": [
    "#!pip install mysql-connector-python\n",
    "\n",
    "# Import the MySQL Connector/Python\n",
    "import mysql.connector as connector\n",
    "\n",
    "# Establish connection between Python and MySQL database via connector API\n",
    "connection=connector.connect(\n",
    "                             user=\"Admin\", # use your own\n",
    "                             password=\"Admin\", # use your own\n",
    "                             db = \"LittleLemonDB\"\n",
    "                            )\n",
    "print(\"Connection between MySQL and Python is established.\\n\")\n"
   ]
  },
  {
   "cell_type": "code",
   "execution_count": 35,
   "metadata": {},
   "outputs": [
    {
     "name": "stdout",
     "output_type": "stream",
     "text": [
      "Cursor is created to communicate with the MySQL using Python.\n",
      "\n"
     ]
    }
   ],
   "source": [
    "\n",
    "# Create cursor object to communicate with entire MySQL database\n",
    "cursor = connection.cursor()\n",
    "print(\"Cursor is created to communicate with the MySQL using Python.\\n\")"
   ]
  },
  {
   "cell_type": "code",
   "execution_count": 36,
   "metadata": {},
   "outputs": [
    {
     "data": {
      "text/plain": [
       "'littlelemondb'"
      ]
     },
     "execution_count": 36,
     "metadata": {},
     "output_type": "execute_result"
    }
   ],
   "source": [
    "# Set LittleLemonDB for use \n",
    "cursor.execute(\"use LittleLemonDB\")\n",
    "\n",
    "# Confirming\n",
    "connection.database"
   ]
  },
  {
   "attachments": {},
   "cell_type": "markdown",
   "metadata": {},
   "source": [
    "### Task two\n",
    "In this second task, you now need to query the database to show all tables within the database. "
   ]
  },
  {
   "cell_type": "code",
   "execution_count": 37,
   "metadata": {},
   "outputs": [
    {
     "name": "stdout",
     "output_type": "stream",
     "text": [
      "Tables in the LittleLemonDB database:\n",
      "('Bookings',)\n",
      "('Customers',)\n",
      "('Delivery',)\n",
      "('DeliveryAddress',)\n",
      "('Employees',)\n",
      "('MenuItems',)\n",
      "('Menus',)\n",
      "('Orders',)\n",
      "('ordersview',)\n"
     ]
    }
   ],
   "source": [
    "show_tables_query = \"\"\"SHOW tables\"\"\"\n",
    "cursor.execute(show_tables_query)\n",
    "# Fetch records \n",
    "results = cursor.fetchall()\n",
    "# Print query results\n",
    "print(\"Tables in the LittleLemonDB database:\")\n",
    "for result in results:\n",
    "    print(result)  "
   ]
  },
  {
   "attachments": {},
   "cell_type": "markdown",
   "metadata": {},
   "source": [
    "### Task 3\n",
    "### Query with table JOIN\n",
    "\n",
    "For the third and final task, Little Lemon need you to return specific details from your database. They require the full name and contact details for every customer that has placed an order greater than $60 for a promotional campaign. "
   ]
  },
  {
   "cell_type": "code",
   "execution_count": 38,
   "metadata": {},
   "outputs": [],
   "source": [
    "promotional_query = \"\"\"\n",
    "SELECT CONCAT(c.FirstName,' ',c.LastName) AS CustomerName,\n",
    "c.ContactNumber, c.Email,CAST(o.OrderAmount AS FLOAT) AS TotalCost\n",
    "FROM Customers as c\n",
    "INNER JOIN Orders as o\n",
    "ON\n",
    "c.CustomerID = o.CustomerID\n",
    "WHERE o.OrderAmount > 60;\n",
    "\"\"\"\n",
    "\n",
    "cursor.execute(promotional_query)"
   ]
  },
  {
   "cell_type": "code",
   "execution_count": 39,
   "metadata": {},
   "outputs": [
    {
     "name": "stdout",
     "output_type": "stream",
     "text": [
      "Customers that placed an order greater than $60\n",
      "\n",
      "('CustomerName', 'ContactNumber', 'Email', 'TotalCost')\n",
      "('Anna Iversen', 610126984, 'AIverson@outlook.com', 86.0)\n",
      "('Vanessa McCarthy', 201587721, 'VCarthy@gmail.com', 148.0)\n",
      "('Hiroki Yamane', 730378526, 'HiroYama@hmail.com', 120.0)\n"
     ]
    }
   ],
   "source": [
    "# Fetch records \n",
    "results = cursor.fetchall()\n",
    "\n",
    "# Retrieve column names\n",
    "columns = cursor.column_names\n",
    "print(\"Customers that placed an order greater than $60\")\n",
    "print()\n",
    "# Print column names\n",
    "print(columns)\n",
    "# Print query results\n",
    "for result in results:\n",
    "    print(result)  "
   ]
  },
  {
   "cell_type": "code",
   "execution_count": 40,
   "metadata": {},
   "outputs": [
    {
     "name": "stdout",
     "output_type": "stream",
     "text": [
      "The cursor is closed.\n",
      "MySQL connection is closed.\n"
     ]
    }
   ],
   "source": [
    "# Let's close the cursor and the connection\n",
    "if connection.is_connected():\n",
    "    cursor.close()\n",
    "    print(\"The cursor is closed.\")\n",
    "    connection.close()\n",
    "    print(\"MySQL connection is closed.\")\n",
    "else:\n",
    "    print(\"Connection is already closed\")"
   ]
  }
 ],
 "metadata": {
  "kernelspec": {
   "display_name": "Python 3",
   "language": "python",
   "name": "python3"
  },
  "language_info": {
   "codemirror_mode": {
    "name": "ipython",
    "version": 3
   },
   "file_extension": ".py",
   "mimetype": "text/x-python",
   "name": "python",
   "nbconvert_exporter": "python",
   "pygments_lexer": "ipython3",
   "version": "3.10.4"
  },
  "orig_nbformat": 4
 },
 "nbformat": 4,
 "nbformat_minor": 2
}
